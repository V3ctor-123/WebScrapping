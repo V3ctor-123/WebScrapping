{
 "cells": [
  {
   "cell_type": "raw",
   "metadata": {},
   "source": [
    "#Web Scrapping with Python"
   ]
  },
  {
   "cell_type": "code",
   "execution_count": 10,
   "metadata": {},
   "outputs": [
    {
     "data": {
      "text/plain": [
       "('forestfiresDownloaded.csv', <http.client.HTTPMessage at 0x1fc5d4ebc48>)"
      ]
     },
     "execution_count": 10,
     "metadata": {},
     "output_type": "execute_result"
    }
   ],
   "source": [
    "# Download the file using url\n",
    "from urllib.request import urlretrieve\n",
    "url = 'https://archive.ics.uci.edu/ml/machine-learning-databases/forest-fires/forestfires.csv'\n",
    "urlretrieve(url,'forestfiresDownloaded.csv')\n",
    "#downloaded file will be available at C:\\Users\\Cyber World\\JupyterNotebooks"
   ]
  },
  {
   "cell_type": "code",
   "execution_count": 18,
   "metadata": {},
   "outputs": [
    {
     "name": "stdout",
     "output_type": "stream",
     "text": [
      "   X  Y month  day  FFMC   DMC     DC  ISI  temp  RH  wind  rain  area\n",
      "0  7  5   mar  fri  86.2  26.2   94.3  5.1   8.2  51   6.7   0.0   0.0\n",
      "1  7  4   oct  tue  90.6  35.4  669.1  6.7  18.0  33   0.9   0.0   0.0\n",
      "2  7  4   oct  sat  90.6  43.7  686.9  6.7  14.6  33   1.3   0.0   0.0\n",
      "3  8  6   mar  fri  91.7  33.3   77.5  9.0   8.3  97   4.0   0.2   0.0\n",
      "4  8  6   mar  sun  89.3  51.3  102.2  9.6  11.4  99   1.8   0.0   0.0\n"
     ]
    }
   ],
   "source": [
    "# Loading the locally stored file using pandas\n",
    "import pandas as pd\n",
    "df = pd.read_csv('forestfiresDownloaded.csv', sep = ',')\n",
    "print(df.head())"
   ]
  },
  {
   "cell_type": "code",
   "execution_count": 4,
   "metadata": {},
   "outputs": [
    {
     "ename": "FileNotFoundError",
     "evalue": "[Errno 2] No such file or directory: 'forestfiresDownloaded.csv'",
     "output_type": "error",
     "traceback": [
      "\u001b[1;31m---------------------------------------------------------------------------\u001b[0m",
      "\u001b[1;31mFileNotFoundError\u001b[0m                         Traceback (most recent call last)",
      "\u001b[1;32m<ipython-input-4-9e231e729b6f>\u001b[0m in \u001b[0;36m<module>\u001b[1;34m\u001b[0m\n\u001b[0;32m      1\u001b[0m \u001b[1;32mimport\u001b[0m \u001b[0mcsv\u001b[0m\u001b[1;33m\u001b[0m\u001b[1;33m\u001b[0m\u001b[0m\n\u001b[0;32m      2\u001b[0m \u001b[1;33m\u001b[0m\u001b[0m\n\u001b[1;32m----> 3\u001b[1;33m \u001b[1;32mwith\u001b[0m \u001b[0mopen\u001b[0m\u001b[1;33m(\u001b[0m\u001b[1;34m'forestfiresDownloaded.csv'\u001b[0m\u001b[1;33m)\u001b[0m \u001b[1;32mas\u001b[0m \u001b[0mfile\u001b[0m\u001b[1;33m:\u001b[0m\u001b[1;33m\u001b[0m\u001b[1;33m\u001b[0m\u001b[0m\n\u001b[0m\u001b[0;32m      4\u001b[0m     \u001b[0mFileLines\u001b[0m \u001b[1;33m=\u001b[0m \u001b[0mcsv\u001b[0m\u001b[1;33m.\u001b[0m\u001b[0mreader\u001b[0m\u001b[1;33m(\u001b[0m\u001b[0mfile\u001b[0m\u001b[1;33m)\u001b[0m\u001b[1;33m\u001b[0m\u001b[1;33m\u001b[0m\u001b[0m\n\u001b[0;32m      5\u001b[0m     \u001b[0mppp\u001b[0m \u001b[1;33m=\u001b[0m \u001b[1;33m[\u001b[0m\u001b[0ma\u001b[0m \u001b[1;32mfor\u001b[0m \u001b[0ma\u001b[0m \u001b[1;32min\u001b[0m \u001b[0mFileLines\u001b[0m\u001b[1;33m]\u001b[0m\u001b[1;33m\u001b[0m\u001b[1;33m\u001b[0m\u001b[0m\n",
      "\u001b[1;31mFileNotFoundError\u001b[0m: [Errno 2] No such file or directory: 'forestfiresDownloaded.csv'"
     ]
    }
   ],
   "source": [
    "import csv\n",
    "\n",
    "with open('forestfiresDownloaded.csv') as file:\n",
    "    FileLines = csv.reader(file)\n",
    "    ppp = [a for a in FileLines]\n",
    "\n",
    "print(ppp[0:5])"
   ]
  },
  {
   "cell_type": "code",
   "execution_count": 1,
   "metadata": {},
   "outputs": [
    {
     "ename": "NameError",
     "evalue": "name 'url' is not defined",
     "output_type": "error",
     "traceback": [
      "\u001b[1;31m---------------------------------------------------------------------------\u001b[0m",
      "\u001b[1;31mNameError\u001b[0m                                 Traceback (most recent call last)",
      "\u001b[1;32m<ipython-input-1-9aa54268fd6e>\u001b[0m in \u001b[0;36m<module>\u001b[1;34m\u001b[0m\n\u001b[0;32m      1\u001b[0m \u001b[1;32mimport\u001b[0m \u001b[0mpandas\u001b[0m \u001b[1;32mas\u001b[0m \u001b[0mpd\u001b[0m\u001b[1;33m\u001b[0m\u001b[1;33m\u001b[0m\u001b[0m\n\u001b[1;32m----> 2\u001b[1;33m \u001b[0mdf\u001b[0m \u001b[1;33m=\u001b[0m \u001b[0mpd\u001b[0m\u001b[1;33m.\u001b[0m\u001b[0mread_csv\u001b[0m\u001b[1;33m(\u001b[0m\u001b[0murl\u001b[0m\u001b[1;33m,\u001b[0m \u001b[0msep\u001b[0m \u001b[1;33m=\u001b[0m \u001b[1;34m','\u001b[0m\u001b[1;33m)\u001b[0m\u001b[1;33m\u001b[0m\u001b[1;33m\u001b[0m\u001b[0m\n\u001b[0m\u001b[0;32m      3\u001b[0m \u001b[0mprint\u001b[0m\u001b[1;33m(\u001b[0m\u001b[0mdf\u001b[0m\u001b[1;33m.\u001b[0m\u001b[0mhead\u001b[0m\u001b[1;33m(\u001b[0m\u001b[1;33m)\u001b[0m\u001b[1;33m)\u001b[0m\u001b[1;33m\u001b[0m\u001b[1;33m\u001b[0m\u001b[0m\n",
      "\u001b[1;31mNameError\u001b[0m: name 'url' is not defined"
     ]
    }
   ],
   "source": [
    "import pandas as pd\n",
    "df = pd.read_csv(url, sep = ',')\n",
    "print(df.head())"
   ]
  },
  {
   "cell_type": "raw",
   "metadata": {},
   "source": [
    "lets fetch the details Product name, Price and Rating from website "
   ]
  },
  {
   "cell_type": "code",
   "execution_count": 3,
   "metadata": {},
   "outputs": [],
   "source": [
    "#Importing libraries\n",
    "from bs4 import BeautifulSoup as soup\n",
    "from urllib.request import urlopen as uReq"
   ]
  },
  {
   "cell_type": "code",
   "execution_count": 5,
   "metadata": {
    "scrolled": false
   },
   "outputs": [],
   "source": [
    "my_url = 'https://www.flipkart.com/search?q=shoes&otracker=search&otracker1=search&marketplace=FLIPKART&as-show=on&as=off'\n",
    "# Opening connection with web, and loading page into variable uClient\n",
    "uClient = uReq(my_url)\n",
    "# Dump all the stored page info into another variable page_html\n",
    "page_html = uClient.read()\n",
    "# Now close the connection\n",
    "uClient.close()"
   ]
  },
  {
   "cell_type": "code",
   "execution_count": 6,
   "metadata": {},
   "outputs": [],
   "source": [
    "# now parse the large html\n",
    "page_soup = soup(page_html, \"html.parser\") "
   ]
  },
  {
   "cell_type": "code",
   "execution_count": 7,
   "metadata": {},
   "outputs": [],
   "source": [
    "containers = page_soup.findAll(\"div\", {\"class\": \"_3O0U0u\"})"
   ]
  },
  {
   "cell_type": "code",
   "execution_count": 8,
   "metadata": {},
   "outputs": [
    {
     "name": "stdout",
     "output_type": "stream",
     "text": [
      "10\n"
     ]
    }
   ],
   "source": [
    "#Print Number of Items on webpage 1\n",
    "print(len(containers)) "
   ]
  },
  {
   "cell_type": "code",
   "execution_count": 9,
   "metadata": {},
   "outputs": [
    {
     "name": "stdout",
     "output_type": "stream",
     "text": [
      "<div class=\"_3O0U0u\">\n",
      " <div data-id=\"SHOFNKBHZUVK92NS\" style=\"width:25%\">\n",
      "  <div class=\"IIdQZO _1SSAGr\">\n",
      "   <a class=\"_3dqZjq\" href=\"/mileswalker-running-shoes-men/p/itm62b332399706c?pid=SHOFNKBHZUVK92NS&amp;lid=LSTSHOFNKBHZUVK92NSM1WC76&amp;marketplace=FLIPKART&amp;srno=s_1_1&amp;otracker=search&amp;otracker1=search&amp;fm=organic&amp;iid=ca082007-0208-4794-a82a-aa14296331f5.SHOFNKBHZUVK92NS.SEARCH&amp;ssid=ui747vhn1c0000001584895699484&amp;qH=b0a8b6f820479900\" rel=\"noopener noreferrer\" target=\"_blank\">\n",
      "    <div>\n",
      "     <div>\n",
      "      <div class=\"_3JlYXy\" style=\"padding-top:120.00%\">\n",
      "       <div class=\"_3ZJShS _31bMyl\" style=\"padding-top:120.00%\">\n",
      "        <img alt=\"\" class=\"_3togXc\" src=\"\"/>\n",
      "       </div>\n",
      "      </div>\n",
      "     </div>\n",
      "    </div>\n",
      "    <div class=\"_2qTrVQ\" style=\"bottom:4px\">\n",
      "    </div>\n",
      "    <div class=\"_3gDSOa _2HqUcN _2RN9ef\">\n",
      "     <div class=\"DsQ2eg\">\n",
      "      <svg class=\"_2oLiqr\" height=\"28\" viewbox=\"0 0 20 16\" width=\"28\" xmlns=\"http://www.w3.org/2000/svg\">\n",
      "       <path class=\"_35Y7Yo\" d=\"M8.695 16.682C4.06 12.382 1 9.536 1 6.065 1 3.219 3.178 1 5.95 1c1.566 0 3.069.746 4.05 1.915C10.981 1.745 12.484 1 14.05 1 16.822 1 19 3.22 19 6.065c0 3.471-3.06 6.316-7.695 10.617L10 17.897l-1.305-1.215z\" fill=\"#2874F0\" fill-rule=\"evenodd\" opacity=\".9\" stroke=\"#FFF\">\n",
      "       </path>\n",
      "      </svg>\n",
      "     </div>\n",
      "    </div>\n",
      "   </a>\n",
      "   <div class=\"_2LFGJH\" style=\"transform:translate3d(0, 0, 0)\">\n",
      "    <div class=\"_2B_pmu\">\n",
      "     MILESWALKER\n",
      "    </div>\n",
      "    <a class=\"_2mylT6\" href=\"/mileswalker-running-shoes-men/p/itm62b332399706c?pid=SHOFNKBHZUVK92NS&amp;lid=LSTSHOFNKBHZUVK92NSM1WC76&amp;marketplace=FLIPKART&amp;srno=s_1_1&amp;otracker=search&amp;otracker1=search&amp;fm=organic&amp;iid=ca082007-0208-4794-a82a-aa14296331f5.SHOFNKBHZUVK92NS.SEARCH&amp;ssid=ui747vhn1c0000001584895699484&amp;qH=b0a8b6f820479900\" rel=\"noopener noreferrer\" target=\"_blank\" title=\"Running Shoes For Men\">\n",
      "     Running Shoes For Men\n",
      "    </a>\n",
      "    <div class=\"_3AqcXr\">\n",
      "     <img height=\"18\" src=\"//img1a.flixcart.com/www/linchpin/fk-cp-zion/img/fa_8b4b59.png\"/>\n",
      "    </div>\n",
      "    <a class=\"_2W-UZw\" href=\"/mileswalker-running-shoes-men/p/itm62b332399706c?pid=SHOFNKBHZUVK92NS&amp;lid=LSTSHOFNKBHZUVK92NSM1WC76&amp;marketplace=FLIPKART&amp;srno=s_1_1&amp;otracker=search&amp;otracker1=search&amp;fm=organic&amp;iid=ca082007-0208-4794-a82a-aa14296331f5.SHOFNKBHZUVK92NS.SEARCH&amp;ssid=ui747vhn1c0000001584895699484&amp;qH=b0a8b6f820479900\" rel=\"noopener noreferrer\" target=\"_blank\">\n",
      "     <div class=\"_1uv9Cb\">\n",
      "      <div class=\"_1vC4OE\">\n",
      "       ₹379\n",
      "      </div>\n",
      "      <div class=\"_3auQ3N\">\n",
      "       ₹\n",
      "       <!-- -->\n",
      "       999\n",
      "      </div>\n",
      "      <div class=\"VGWI6T\">\n",
      "       <span>\n",
      "        62% off\n",
      "       </span>\n",
      "      </div>\n",
      "     </div>\n",
      "    </a>\n",
      "   </div>\n",
      "  </div>\n",
      " </div>\n",
      " <div data-id=\"SHOFMHTZTF3ZFQMS\" style=\"width:25%\">\n",
      "  <div class=\"IIdQZO _1SSAGr\">\n",
      "   <a class=\"_3dqZjq\" href=\"/absolute-comfort-walking-shoes-men/p/itm5b3bb8ce3843f?pid=SHOFMHTZTF3ZFQMS&amp;lid=LSTSHOFMHTZTF3ZFQMSBOLMLI&amp;marketplace=FLIPKART&amp;srno=s_1_2&amp;otracker=search&amp;otracker1=search&amp;fm=organic&amp;iid=ca082007-0208-4794-a82a-aa14296331f5.SHOFMHTZTF3ZFQMS.SEARCH&amp;ssid=ui747vhn1c0000001584895699484&amp;qH=b0a8b6f820479900\" rel=\"noopener noreferrer\" target=\"_blank\">\n",
      "    <div>\n",
      "     <div>\n",
      "      <div class=\"_3JlYXy\" style=\"padding-top:120.00%\">\n",
      "       <div class=\"_3ZJShS _31bMyl\" style=\"padding-top:120.00%\">\n",
      "        <img alt=\"\" class=\"_3togXc\" src=\"\"/>\n",
      "       </div>\n",
      "      </div>\n",
      "     </div>\n",
      "    </div>\n",
      "    <div class=\"_2qTrVQ\" style=\"bottom:4px\">\n",
      "    </div>\n",
      "    <div class=\"_3gDSOa _2HqUcN _2RN9ef\">\n",
      "     <div class=\"DsQ2eg\">\n",
      "      <svg class=\"_2oLiqr\" height=\"28\" viewbox=\"0 0 20 16\" width=\"28\" xmlns=\"http://www.w3.org/2000/svg\">\n",
      "       <path class=\"_35Y7Yo\" d=\"M8.695 16.682C4.06 12.382 1 9.536 1 6.065 1 3.219 3.178 1 5.95 1c1.566 0 3.069.746 4.05 1.915C10.981 1.745 12.484 1 14.05 1 16.822 1 19 3.22 19 6.065c0 3.471-3.06 6.316-7.695 10.617L10 17.897l-1.305-1.215z\" fill=\"#2874F0\" fill-rule=\"evenodd\" opacity=\".9\" stroke=\"#FFF\">\n",
      "       </path>\n",
      "      </svg>\n",
      "     </div>\n",
      "    </div>\n",
      "   </a>\n",
      "   <div class=\"_2LFGJH\" style=\"transform:translate3d(0, 0, 0)\">\n",
      "    <div class=\"_2B_pmu\">\n",
      "     Absolute comfort\n",
      "    </div>\n",
      "    <a class=\"_2mylT6 _3Ockxk\" href=\"/absolute-comfort-walking-shoes-men/p/itm5b3bb8ce3843f?pid=SHOFMHTZTF3ZFQMS&amp;lid=LSTSHOFMHTZTF3ZFQMSBOLMLI&amp;marketplace=FLIPKART&amp;srno=s_1_2&amp;otracker=search&amp;otracker1=search&amp;fm=organic&amp;iid=ca082007-0208-4794-a82a-aa14296331f5.SHOFMHTZTF3ZFQMS.SEARCH&amp;ssid=ui747vhn1c0000001584895699484&amp;qH=b0a8b6f820479900\" rel=\"noopener noreferrer\" target=\"_blank\" title=\"Walking shoes Walking Shoes For Men\">\n",
      "     Walking shoes Walking Shoes For Men\n",
      "    </a>\n",
      "    <a class=\"_2W-UZw\" href=\"/absolute-comfort-walking-shoes-men/p/itm5b3bb8ce3843f?pid=SHOFMHTZTF3ZFQMS&amp;lid=LSTSHOFMHTZTF3ZFQMSBOLMLI&amp;marketplace=FLIPKART&amp;srno=s_1_2&amp;otracker=search&amp;otracker1=search&amp;fm=organic&amp;iid=ca082007-0208-4794-a82a-aa14296331f5.SHOFMHTZTF3ZFQMS.SEARCH&amp;ssid=ui747vhn1c0000001584895699484&amp;qH=b0a8b6f820479900\" rel=\"noopener noreferrer\" target=\"_blank\">\n",
      "     <div class=\"_1uv9Cb\">\n",
      "      <div class=\"_1vC4OE\">\n",
      "       ₹249\n",
      "      </div>\n",
      "      <div class=\"_3auQ3N\">\n",
      "       ₹\n",
      "       <!-- -->\n",
      "       999\n",
      "      </div>\n",
      "      <div class=\"VGWI6T\">\n",
      "       <span>\n",
      "        75% off\n",
      "       </span>\n",
      "      </div>\n",
      "     </div>\n",
      "    </a>\n",
      "   </div>\n",
      "  </div>\n",
      " </div>\n",
      " <div data-id=\"SHOF83WHR6ZBBC4Q\" style=\"width:25%\">\n",
      "  <div class=\"IIdQZO _1SSAGr\">\n",
      "   <a class=\"_3dqZjq\" href=\"/puma-draco-idp-running-shoe-men/p/itmf8gp2m5fpyzsr?pid=SHOF83WHR6ZBBC4Q&amp;lid=LSTSHOF83WHR6ZBBC4QVFJIIO&amp;marketplace=FLIPKART&amp;srno=s_1_3&amp;otracker=search&amp;otracker1=search&amp;fm=organic&amp;iid=ca082007-0208-4794-a82a-aa14296331f5.SHOF83WHR6ZBBC4Q.SEARCH&amp;ssid=ui747vhn1c0000001584895699484&amp;qH=b0a8b6f820479900\" rel=\"noopener noreferrer\" target=\"_blank\">\n",
      "    <div>\n",
      "     <div>\n",
      "      <div class=\"_3JlYXy\" style=\"padding-top:120.00%\">\n",
      "       <div class=\"_3ZJShS _31bMyl\" style=\"padding-top:120.00%\">\n",
      "        <img alt=\"\" class=\"_3togXc\" src=\"\"/>\n",
      "       </div>\n",
      "      </div>\n",
      "     </div>\n",
      "    </div>\n",
      "    <div class=\"_2qTrVQ\" style=\"bottom:4px\">\n",
      "    </div>\n",
      "    <div class=\"_3gDSOa _2HqUcN _2RN9ef\">\n",
      "     <div class=\"DsQ2eg\">\n",
      "      <svg class=\"_2oLiqr\" height=\"28\" viewbox=\"0 0 20 16\" width=\"28\" xmlns=\"http://www.w3.org/2000/svg\">\n",
      "       <path class=\"_35Y7Yo\" d=\"M8.695 16.682C4.06 12.382 1 9.536 1 6.065 1 3.219 3.178 1 5.95 1c1.566 0 3.069.746 4.05 1.915C10.981 1.745 12.484 1 14.05 1 16.822 1 19 3.22 19 6.065c0 3.471-3.06 6.316-7.695 10.617L10 17.897l-1.305-1.215z\" fill=\"#2874F0\" fill-rule=\"evenodd\" opacity=\".9\" stroke=\"#FFF\">\n",
      "       </path>\n",
      "      </svg>\n",
      "     </div>\n",
      "    </div>\n",
      "   </a>\n",
      "   <div class=\"_2LFGJH\" style=\"transform:translate3d(0, 0, 0)\">\n",
      "    <div class=\"_2B_pmu\">\n",
      "     Puma\n",
      "    </div>\n",
      "    <a class=\"_2mylT6\" href=\"/puma-draco-idp-running-shoe-men/p/itmf8gp2m5fpyzsr?pid=SHOF83WHR6ZBBC4Q&amp;lid=LSTSHOF83WHR6ZBBC4QVFJIIO&amp;marketplace=FLIPKART&amp;srno=s_1_3&amp;otracker=search&amp;otracker1=search&amp;fm=organic&amp;iid=ca082007-0208-4794-a82a-aa14296331f5.SHOF83WHR6ZBBC4Q.SEARCH&amp;ssid=ui747vhn1c0000001584895699484&amp;qH=b0a8b6f820479900\" rel=\"noopener noreferrer\" target=\"_blank\" title=\"Draco IDP Running Shoe For Men\">\n",
      "     Draco IDP Running Shoe For Men\n",
      "    </a>\n",
      "    <div class=\"_3AqcXr\">\n",
      "     <img height=\"18\" src=\"//img1a.flixcart.com/www/linchpin/fk-cp-zion/img/fa_8b4b59.png\"/>\n",
      "    </div>\n",
      "    <a class=\"_2W-UZw\" href=\"/puma-draco-idp-running-shoe-men/p/itmf8gp2m5fpyzsr?pid=SHOF83WHR6ZBBC4Q&amp;lid=LSTSHOF83WHR6ZBBC4QVFJIIO&amp;marketplace=FLIPKART&amp;srno=s_1_3&amp;otracker=search&amp;otracker1=search&amp;fm=organic&amp;iid=ca082007-0208-4794-a82a-aa14296331f5.SHOF83WHR6ZBBC4Q.SEARCH&amp;ssid=ui747vhn1c0000001584895699484&amp;qH=b0a8b6f820479900\" rel=\"noopener noreferrer\" target=\"_blank\">\n",
      "     <div class=\"_1uv9Cb\">\n",
      "      <div class=\"_1vC4OE\">\n",
      "       ₹1,499\n",
      "      </div>\n",
      "      <div class=\"_3auQ3N\">\n",
      "       ₹\n",
      "       <!-- -->\n",
      "       3,999\n",
      "      </div>\n",
      "      <div class=\"VGWI6T\">\n",
      "       <span>\n",
      "        62% off\n",
      "       </span>\n",
      "      </div>\n",
      "     </div>\n",
      "    </a>\n",
      "   </div>\n",
      "  </div>\n",
      " </div>\n",
      " <div data-id=\"SHOFGKHH35ZZYQGV\" style=\"width:25%\">\n",
      "  <div class=\"IIdQZO _1SSAGr\">\n",
      "   <a class=\"_3dqZjq\" href=\"/dunkaston-running-shoes-men/p/itm6395b179e8470?pid=SHOFGKHH35ZZYQGV&amp;lid=LSTSHOFGKHH35ZZYQGVVERI3Y&amp;marketplace=FLIPKART&amp;srno=s_1_4&amp;otracker=search&amp;otracker1=search&amp;fm=organic&amp;iid=ca082007-0208-4794-a82a-aa14296331f5.SHOFGKHH35ZZYQGV.SEARCH&amp;ssid=ui747vhn1c0000001584895699484&amp;qH=b0a8b6f820479900\" rel=\"noopener noreferrer\" target=\"_blank\">\n",
      "    <div>\n",
      "     <div>\n",
      "      <div class=\"_3JlYXy\" style=\"padding-top:120.00%\">\n",
      "       <div class=\"_3ZJShS _31bMyl\" style=\"padding-top:120.00%\">\n",
      "        <img alt=\"\" class=\"_3togXc\" src=\"\"/>\n",
      "       </div>\n",
      "      </div>\n",
      "     </div>\n",
      "    </div>\n",
      "    <div class=\"_2qTrVQ\" style=\"bottom:4px\">\n",
      "    </div>\n",
      "    <div class=\"_3gDSOa _2HqUcN _2RN9ef\">\n",
      "     <div class=\"DsQ2eg\">\n",
      "      <svg class=\"_2oLiqr\" height=\"28\" viewbox=\"0 0 20 16\" width=\"28\" xmlns=\"http://www.w3.org/2000/svg\">\n",
      "       <path class=\"_35Y7Yo\" d=\"M8.695 16.682C4.06 12.382 1 9.536 1 6.065 1 3.219 3.178 1 5.95 1c1.566 0 3.069.746 4.05 1.915C10.981 1.745 12.484 1 14.05 1 16.822 1 19 3.22 19 6.065c0 3.471-3.06 6.316-7.695 10.617L10 17.897l-1.305-1.215z\" fill=\"#2874F0\" fill-rule=\"evenodd\" opacity=\".9\" stroke=\"#FFF\">\n",
      "       </path>\n",
      "      </svg>\n",
      "     </div>\n",
      "    </div>\n",
      "   </a>\n",
      "   <div class=\"_2LFGJH\" style=\"transform:translate3d(0, 0, 0)\">\n",
      "    <div class=\"_2B_pmu\">\n",
      "     DUNKASTON\n",
      "    </div>\n",
      "    <a class=\"_2mylT6\" href=\"/dunkaston-running-shoes-men/p/itm6395b179e8470?pid=SHOFGKHH35ZZYQGV&amp;lid=LSTSHOFGKHH35ZZYQGVVERI3Y&amp;marketplace=FLIPKART&amp;srno=s_1_4&amp;otracker=search&amp;otracker1=search&amp;fm=organic&amp;iid=ca082007-0208-4794-a82a-aa14296331f5.SHOFGKHH35ZZYQGV.SEARCH&amp;ssid=ui747vhn1c0000001584895699484&amp;qH=b0a8b6f820479900\" rel=\"noopener noreferrer\" target=\"_blank\" title=\"Running Shoes For Men\">\n",
      "     Running Shoes For Men\n",
      "    </a>\n",
      "    <div class=\"_3AqcXr\">\n",
      "     <img height=\"18\" src=\"//img1a.flixcart.com/www/linchpin/fk-cp-zion/img/fa_8b4b59.png\"/>\n",
      "    </div>\n",
      "    <a class=\"_2W-UZw\" href=\"/dunkaston-running-shoes-men/p/itm6395b179e8470?pid=SHOFGKHH35ZZYQGV&amp;lid=LSTSHOFGKHH35ZZYQGVVERI3Y&amp;marketplace=FLIPKART&amp;srno=s_1_4&amp;otracker=search&amp;otracker1=search&amp;fm=organic&amp;iid=ca082007-0208-4794-a82a-aa14296331f5.SHOFGKHH35ZZYQGV.SEARCH&amp;ssid=ui747vhn1c0000001584895699484&amp;qH=b0a8b6f820479900\" rel=\"noopener noreferrer\" target=\"_blank\">\n",
      "     <div class=\"_1uv9Cb\">\n",
      "      <div class=\"_1vC4OE\">\n",
      "       ₹349\n",
      "      </div>\n",
      "      <div class=\"_3auQ3N\">\n",
      "       ₹\n",
      "       <!-- -->\n",
      "       999\n",
      "      </div>\n",
      "      <div class=\"VGWI6T\">\n",
      "       <span>\n",
      "        65% off\n",
      "       </span>\n",
      "      </div>\n",
      "     </div>\n",
      "    </a>\n",
      "   </div>\n",
      "  </div>\n",
      " </div>\n",
      "</div>\n"
     ]
    }
   ],
   "source": [
    "#Show the first container\n",
    "print(soup.prettify(containers[0]))"
   ]
  },
  {
   "cell_type": "raw",
   "metadata": {},
   "source": [
    "Now its time to get the required info from that container "
   ]
  },
  {
   "cell_type": "code",
   "execution_count": 42,
   "metadata": {},
   "outputs": [
    {
     "name": "stdout",
     "output_type": "stream",
     "text": [
      "Running Shoes For Men\n"
     ]
    }
   ],
   "source": [
    "container = containers[0]\n",
    "# Extract class from container which contains Product name. \n",
    "NameTag = container.find('a',{'class':'_2mylT6'}) \n",
    "print(container.find('a',{'class':'_2mylT6'}).text)"
   ]
  },
  {
   "cell_type": "code",
   "execution_count": 41,
   "metadata": {},
   "outputs": [
    {
     "name": "stdout",
     "output_type": "stream",
     "text": [
      "Running Shoes For Men\n"
     ]
    }
   ],
   "source": [
    "# Print tag which contains Product name\n",
    "print(NameTag.text)"
   ]
  },
  {
   "cell_type": "code",
   "execution_count": 13,
   "metadata": {},
   "outputs": [
    {
     "name": "stdout",
     "output_type": "stream",
     "text": [
      "Running Shoes For Men\n"
     ]
    }
   ],
   "source": [
    "print(NameTag[\"title\"]) #Print product name\n",
    "\n",
    "#print(container.div.div.a[\"class\"])"
   ]
  },
  {
   "cell_type": "code",
   "execution_count": 47,
   "metadata": {},
   "outputs": [],
   "source": [
    "# For Price\n",
    "# Price tag is avilable in class _3auQ3N\n",
    "price = container.find('div',{'class':'_1uv9Cb'})"
   ]
  },
  {
   "cell_type": "code",
   "execution_count": 28,
   "metadata": {},
   "outputs": [
    {
     "name": "stdout",
     "output_type": "stream",
     "text": [
      "₹379₹99962% off\n"
     ]
    }
   ],
   "source": [
    "print(price.text)"
   ]
  },
  {
   "cell_type": "code",
   "execution_count": 44,
   "metadata": {},
   "outputs": [],
   "source": [
    "# For Rating \n",
    "Rating = container.find('div',{'class':'hGSR34 bqXGTW'})"
   ]
  },
  {
   "cell_type": "code",
   "execution_count": 45,
   "metadata": {},
   "outputs": [
    {
     "name": "stdout",
     "output_type": "stream",
     "text": [
      "None\n"
     ]
    }
   ],
   "source": [
    "print(Rating)"
   ]
  },
  {
   "cell_type": "code",
   "execution_count": 37,
   "metadata": {},
   "outputs": [
    {
     "name": "stdout",
     "output_type": "stream",
     "text": [
      "Running Shoes For Men\n",
      "₹379₹99962% off\n"
     ]
    }
   ],
   "source": [
    "# Now Printing all the gathered info\n",
    "print(NameTag[\"title\"]) #Print product name\n",
    "print(price.text)\n"
   ]
  },
  {
   "cell_type": "raw",
   "metadata": {},
   "source": [
    "#Storing info into file"
   ]
  },
  {
   "cell_type": "code",
   "execution_count": 78,
   "metadata": {},
   "outputs": [
    {
     "data": {
      "text/plain": [
       "29"
      ]
     },
     "execution_count": 78,
     "metadata": {},
     "output_type": "execute_result"
    }
   ],
   "source": [
    "filename = \"products.csv\"\n",
    "f = open(filename,\"w\")\n",
    "\n",
    "headers = \"Product_Name,Pricing,Ratings\\n\"\n",
    "f.write(headers)"
   ]
  },
  {
   "cell_type": "code",
   "execution_count": 79,
   "metadata": {},
   "outputs": [
    {
     "name": "stdout",
     "output_type": "stream",
     "text": [
      "Running Shoes For Men,379\n",
      "\n",
      "Lightweight Gymwear Sport Running Shoes For Men Running...,379\n",
      "\n",
      "Combo Pack of 3 Casual Canvas Shoes For Men,589\n",
      "\n",
      "Casuals For Men,449\n",
      "\n",
      "Mesh|Cricket| Badminton| Volly Ball| Sports Walking Sho...,399\n",
      "\n",
      "Drogo M Running Shoe For Men,1,349\n",
      "\n",
      "Casual | Partywear Sneakers Shoes For Men's And Boys Wh...,395\n",
      "\n",
      "Running Shoes For Men,379\n",
      "\n",
      "Combo Pack of 2 Latest Collection Stylish casual Sports...,498\n",
      "\n",
      "Sneakers For Men,499\n",
      "\n"
     ]
    }
   ],
   "source": [
    "for container in containers:\n",
    "    \n",
    "    product_name = container.find('a',{'class':'_2mylT6'}).text\n",
    "    \n",
    "    price_container = container.find('div',{'class':'_1uv9Cb'}).text\n",
    "    price = price_container\n",
    "    \n",
    "    rating = container.find('div',{'class':'hGSR34 bqXGTW'})\n",
    "    rating_container = container.findAll(\"div\", {\"class\": \"\"})\n",
    "    \n",
    "\n",
    "    #print(\"product:\" + product_name)\n",
    "    \n",
    "    final_price = str(price).split('₹')\n",
    "    #print(\"Final Price:\" + final_price[1])\n",
    "    print(product_name.replace(\",\",\"|\") + \",\" + final_price[1] + \"\\n\")\n",
    "    \n",
    "    f.write(product_name.replace(\",\",\"|\") + \",\" + final_price[1] + \"\\n\")\n",
    "\n",
    "f.close()\n",
    " #_1uv9Cb"
   ]
  },
  {
   "cell_type": "code",
   "execution_count": null,
   "metadata": {},
   "outputs": [],
   "source": []
  }
 ],
 "metadata": {
  "kernelspec": {
   "display_name": "Python 3",
   "language": "python",
   "name": "python3"
  },
  "language_info": {
   "codemirror_mode": {
    "name": "ipython",
    "version": 3
   },
   "file_extension": ".py",
   "mimetype": "text/x-python",
   "name": "python",
   "nbconvert_exporter": "python",
   "pygments_lexer": "ipython3",
   "version": "3.7.4"
  }
 },
 "nbformat": 4,
 "nbformat_minor": 2
}
